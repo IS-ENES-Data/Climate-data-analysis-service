{
 "cells": [
  {
   "cell_type": "markdown",
   "metadata": {},
   "source": [
    "# Hands On: Calculate Number of Tropical Nights\n",
    "In this notebook you will:\n",
    "- Read the saved selection and open the two files, which are needed\n",
    "- Calculate the number of tropical nights for both years\n",
    "- Visualize the results on a map. You can use your prefered visualization package or stick to the example in the demo `use-case_frost_days_intake_xarray_cmip6.ipynb`"
   ]
  },
  {
   "cell_type": "code",
   "execution_count": null,
   "metadata": {},
   "outputs": [],
   "source": [
    "import intake                         # to find data in a catalog, this notebook explains how it works\n",
    "import xarray as xr\n",
    "\n",
    "import matplotlib.pyplot as plt\n",
    "import cartopy.crs as ccrs\n",
    "from cartopy.util import add_cyclic_point"
   ]
  },
  {
   "cell_type": "markdown",
   "metadata": {},
   "source": [
    "## <font color='green'>Excercise: Read Your Collection</font> \n",
    "- use `pd.read_csv(<file location>/<file name>` to read your collection"
   ]
  },
  {
   "cell_type": "code",
   "execution_count": null,
   "metadata": {},
   "outputs": [],
   "source": [
    "my_col = pd.read_csv('my_tasmin_collection.csv')"
   ]
  },
  {
   "cell_type": "markdown",
   "metadata": {},
   "source": [
    "## <font color='green'>Exercise: Open Data File</font>\n",
    "- open the temoerature data file for the 2020\n",
    "- open the data file for an arbitrary year in the future"
   ]
  },
  {
   "cell_type": "code",
   "execution_count": null,
   "metadata": {},
   "outputs": [],
   "source": [
    "ds = xr.open_dataset(src_path)\n",
    "\n",
    "# Open variable \"tasmax\" over the whole time range\n",
    "ds_tasmin = ds[\"tasmin\"]"
   ]
  },
  {
   "cell_type": "markdown",
   "metadata": {},
   "source": [
    "## <font color='green'>Look at the Data File</font> "
   ]
  },
  {
   "cell_type": "code",
   "execution_count": null,
   "metadata": {},
   "outputs": [],
   "source": [
    "ds_tasmin"
   ]
  },
  {
   "cell_type": "markdown",
   "metadata": {},
   "source": [
    "Select Year"
   ]
  },
  {
   "cell_type": "code",
   "execution_count": null,
   "metadata": {},
   "outputs": [],
   "source": [
    "ds_tasmin_year = ds_tasmin.sel(time=year)"
   ]
  },
  {
   "cell_type": "markdown",
   "metadata": {},
   "source": [
    "## <font color='green'>Excercise: Count Number of Tropical Nights</font>\n",
    "- count the number of tropical nights\n",
    "\n",
    "The definition of a tropical night varies from region to region. According to the [German Weather Service](https://www.dwd.de/DE/service/lexikon/Functions/glossar.html?lv2=102672&lv3=102802), \"a tropical night is a night in which the minimum air temperature is at least 20.0 °C\"."
   ]
  },
  {
   "cell_type": "code",
   "execution_count": null,
   "metadata": {},
   "outputs": [],
   "source": [
    "ds_tasmin_year_count = ds_tasmin_year.where(ds_tasmin_year > 293.15).count(dim='time')"
   ]
  },
  {
   "cell_type": "markdown",
   "metadata": {},
   "source": [
    "Before plotting a cyclic point has to be added, otherwise there will be a gap at the prime meridian"
   ]
  },
  {
   "cell_type": "code",
   "execution_count": null,
   "metadata": {},
   "outputs": [],
   "source": [
    "lon = ds_tasmin_year_count.lon\n",
    "lat = ds_tasmin_year_count.lat\n",
    "ds_tasmin_year_count, lon = add_cyclic_point(ds_tasmin_year_count, lon)"
   ]
  },
  {
   "cell_type": "markdown",
   "metadata": {},
   "source": [
    "## <font color='green'>Excercise: Visualization</font>\n",
    "- Visualize the number of tropical nights for both years\n",
    "- Where do the number increase/decrease\n",
    "- Create a third visualization, which is showing the difference between those two years"
   ]
  },
  {
   "cell_type": "code",
   "execution_count": null,
   "metadata": {},
   "outputs": [],
   "source": [
    "fig = plt.figure(figsize=(10, 5))\n",
    "ax = fig.add_subplot(1, 1, 1, projection=ccrs.Mollweide())\n",
    "\n",
    "plt.contourf(lon, lat, ds_tasmin_year_count, 60,\n",
    "            transform=ccrs.PlateCarree(),\n",
    "            cmap='Reds')\n",
    "ax.coastlines()\n",
    "ax.set_global()\n",
    "\n",
    "# Add a color bar\n",
    "plt.colorbar(ax=ax)\n",
    "plt.title('Number of Tropical Nights in Year ' +year)\n",
    "plt.show()"
   ]
  }
 ],
 "metadata": {
  "kernelspec": {
   "display_name": "Python 3",
   "language": "python",
   "name": "python3"
  },
  "language_info": {
   "codemirror_mode": {
    "name": "ipython",
    "version": 3
   },
   "file_extension": ".py",
   "mimetype": "text/x-python",
   "name": "python",
   "nbconvert_exporter": "python",
   "pygments_lexer": "ipython3",
   "version": "3.7.7"
  }
 },
 "nbformat": 4,
 "nbformat_minor": 2
}
