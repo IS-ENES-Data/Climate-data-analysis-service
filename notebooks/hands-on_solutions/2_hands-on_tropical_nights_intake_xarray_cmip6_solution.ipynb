{
 "cells": [
  {
   "cell_type": "markdown",
   "metadata": {},
   "source": [
    "# Hands On: Calculate Number of Tropical Nights\n",
    "In this notebook you will:\n",
    "- Read the saved selection and open the two files, which are needed for the task\n",
    "- Calculate the number of tropical nights for both years\n",
    "- Visualize the results on a map. You can use your prefered visualization package or stick to the example in the demo `use-case_frost_days_intake_xarray_cmip6.ipynb`"
   ]
  },
  {
   "cell_type": "code",
   "execution_count": null,
   "metadata": {},
   "outputs": [],
   "source": [
    "import intake                         # to find data in a catalog, this notebook explains how it works\n",
    "import xarray as xr\n",
    "import pandas as pd\n",
    "import numpy as np\n",
    "\n",
    "import matplotlib.pyplot as plt\n",
    "import cartopy.crs as ccrs\n",
    "from cartopy.util import add_cyclic_point"
   ]
  },
  {
   "cell_type": "markdown",
   "metadata": {},
   "source": [
    "## <font color='green'>Excercise: Read Your Collection</font> \n",
    "- use `pd.read_csv(<file location>/<file name>` to read your collection"
   ]
  },
  {
   "cell_type": "code",
   "execution_count": null,
   "metadata": {},
   "outputs": [],
   "source": [
    "my_col = pd.read_csv('my_tasmin_collection.csv')\n",
    "\n",
    "my_col"
   ]
  },
  {
   "cell_type": "markdown",
   "metadata": {},
   "source": [
    "## <font color='green'>Exercise: Open Data File</font>\n",
    "- open the data file, which contains the most recent year (2014)\n",
    "- open a data file, which contains an arbitrary year in the past\n",
    "\n",
    "You can open a data set with `xr.open_dataset(<path>)`\n",
    "\n",
    "You can open a variable with `[\"<varname>\"]`"
   ]
  },
  {
   "cell_type": "code",
   "execution_count": null,
   "metadata": {},
   "outputs": [],
   "source": [
    "# Open data file\n",
    "ds_recent = xr.open_dataset(my_col['path'][8])\n",
    "ds_past   = xr.open_dataset(my_col['path'][3])\n",
    "\n",
    "# Open variable \"tasmin\" over the whole time range\n",
    "ds_recent_tasmin = ds_recent[\"tasmin\"]\n",
    "ds_past_tasmin = ds_past[\"tasmin\"]"
   ]
  },
  {
   "cell_type": "markdown",
   "metadata": {},
   "source": [
    "## <font color='green'>Look at both Data Files</font> "
   ]
  },
  {
   "cell_type": "code",
   "execution_count": null,
   "metadata": {},
   "outputs": [],
   "source": [
    "# Data file 1\n",
    "ds_recent_tasmin"
   ]
  },
  {
   "cell_type": "code",
   "execution_count": null,
   "metadata": {},
   "outputs": [],
   "source": [
    "# Data file 2\n",
    "ds_past_tasmin"
   ]
  },
  {
   "cell_type": "markdown",
   "metadata": {},
   "source": [
    "## <font color='green'>Excercise: Select Year from Data Files</font>\n",
    "As you can see in the `time_range` column, each data file contains a range of 20 year years.\n",
    "- Select in both data files the year which is needed.\n",
    "\n",
    "You can select a year with `.sel(time='<year>')`"
   ]
  },
  {
   "cell_type": "code",
   "execution_count": null,
   "metadata": {},
   "outputs": [],
   "source": [
    "ds_recent_tasmin_year = ds_recent_tasmin.sel(time='2014')\n",
    "ds_past_tasmin_year   = ds_past_tasmin.sel(time='1915')"
   ]
  },
  {
   "cell_type": "markdown",
   "metadata": {},
   "source": [
    "## <font color='green'>Excercise: Count Number of Tropical Nights</font>\n",
    "- Count the number of tropical nights\n",
    "\n",
    "The definition of a tropical night varies from region to region. According to the [German Weather Service](https://www.dwd.de/DE/service/lexikon/Functions/glossar.html?lv2=102672&lv3=102802), \"a tropical night is a night in which the minimum air temperature is at least 20.0 °C\"."
   ]
  },
  {
   "cell_type": "code",
   "execution_count": null,
   "metadata": {},
   "outputs": [],
   "source": [
    "ds_recent_tasmin_year_count = ds_recent_tasmin_year.where(ds_recent_tasmin_year > 293.15).count(dim='time')\n",
    "ds_past_tasmin_year_count = ds_past_tasmin_year.where(ds_past_tasmin_year > 293.15).count(dim='time')"
   ]
  },
  {
   "cell_type": "markdown",
   "metadata": {},
   "source": [
    "Before plotting, a cyclic point has to be added, otherwise there will be a gap at the prime meridian"
   ]
  },
  {
   "cell_type": "code",
   "execution_count": null,
   "metadata": {},
   "outputs": [],
   "source": [
    "lon_recent = ds_recent_tasmin_year_count.lon\n",
    "lat_recent = ds_recent_tasmin_year_count.lat\n",
    "\n",
    "lon_past = ds_past_tasmin_year_count.lon\n",
    "lat_past = ds_past_tasmin_year_count.lat\n",
    "\n",
    "ds_recent_tasmin_year_count, lon_recent = add_cyclic_point(ds_recent_tasmin_year_count, lon_recent)\n",
    "ds_past_tasmin_year_count, lon_past = add_cyclic_point(ds_past_tasmin_year_count, lon_past)"
   ]
  },
  {
   "cell_type": "markdown",
   "metadata": {},
   "source": [
    "## <font color='green'>Excercise: Visualization</font>\n",
    "- Visualize the number of tropical nights for both years\n",
    "- Create a third visualization, which is showing the difference between those two years\n",
    "- Where do the numbers increase/decrease?"
   ]
  },
  {
   "cell_type": "code",
   "execution_count": null,
   "metadata": {},
   "outputs": [],
   "source": [
    "# Plot 1\n",
    "\n",
    "fig = plt.figure(figsize=(10, 5))\n",
    "ax = fig.add_subplot(1, 1, 1, projection=ccrs.Mollweide())\n",
    "\n",
    "plt.contourf(lon_recent, lat_recent, ds_recent_tasmin_year_count, 60,\n",
    "            transform=ccrs.PlateCarree(),\n",
    "            cmap='Reds')\n",
    "ax.coastlines()\n",
    "ax.set_global()\n",
    "\n",
    "# Add a color bar\n",
    "plt.colorbar(ax=ax)\n",
    "plt.title('Number of Tropical Nights in Year 2014')\n",
    "plt.show()"
   ]
  },
  {
   "cell_type": "code",
   "execution_count": null,
   "metadata": {},
   "outputs": [],
   "source": [
    "# Plot 2\n",
    "\n",
    "fig = plt.figure(figsize=(10, 5))\n",
    "ax = fig.add_subplot(1, 1, 1, projection=ccrs.Mollweide())\n",
    "\n",
    "plt.contourf(lon_past, lat_past, ds_past_tasmin_year_count, 60,\n",
    "            transform=ccrs.PlateCarree(),\n",
    "            cmap='Reds')\n",
    "ax.coastlines()\n",
    "ax.set_global()\n",
    "\n",
    "# Add a color bar\n",
    "plt.colorbar(ax=ax)\n",
    "plt.title('Number of Tropical Nights in Year 1915')\n",
    "plt.show()"
   ]
  },
  {
   "cell_type": "code",
   "execution_count": null,
   "metadata": {},
   "outputs": [],
   "source": [
    "# Calculate the difference between both years\n",
    "\n",
    "diff = ds_recent_tasmin_year_count -ds_past_tasmin_year_count"
   ]
  },
  {
   "cell_type": "code",
   "execution_count": null,
   "metadata": {},
   "outputs": [],
   "source": [
    "# Difference plot\n",
    "\n",
    "fig = plt.figure(figsize=(10, 5))\n",
    "ax = fig.add_subplot(1, 1, 1, projection=ccrs.Mollweide())\n",
    "\n",
    "levels = np.linspace(-60, 60, 61)\n",
    "\n",
    "plt.contourf(lon_past, lat_past, diff, levels=levels,\n",
    "            transform=ccrs.PlateCarree(),\n",
    "            cmap='bwr')\n",
    "ax.coastlines()\n",
    "ax.set_global()\n",
    "\n",
    "# Add a color bar\n",
    "plt.colorbar(ax=ax)\n",
    "plt.title('Difference in Number of Tropical Nights (Year 2014 - Year 1915)')\n",
    "plt.show()"
   ]
  }
 ],
 "metadata": {
  "kernelspec": {
   "display_name": "Python 3 bleeding edge (using the module anaconda3/bleeding_edge)",
   "language": "python",
   "name": "anaconda3_bleeding"
  },
  "language_info": {
   "codemirror_mode": {
    "name": "ipython",
    "version": 3
   },
   "file_extension": ".py",
   "mimetype": "text/x-python",
   "name": "python",
   "nbconvert_exporter": "python",
   "pygments_lexer": "ipython3",
   "version": "3.6.10"
  }
 },
 "nbformat": 4,
 "nbformat_minor": 2
}
