{
 "cells": [
  {
   "cell_type": "markdown",
   "metadata": {},
   "source": [
    "# Hands On: Find Data with Intake\n",
    "In this notebook you will:\n",
    "- Search for an appropriate list of data files (the datasets should contain the variables `tasmin` on a daily basis)\n",
    "- Save your selection as .csv file, so it can be used by another notebook"
   ]
  },
  {
   "cell_type": "code",
   "execution_count": null,
   "metadata": {},
   "outputs": [],
   "source": [
    "import intake\n",
    "import xarray as xr\n",
    "import pandas as pd"
   ]
  },
  {
   "cell_type": "markdown",
   "metadata": {},
   "source": [
    "## <font color='green'>Excercise: Load the Intake Catalog</font> \n",
    "- The catalog descriptor is located in `/work/ik1017/Catalogs/mistral-cmip6.json`\n",
    "- The catalog will be loaded with `intake.open_esm_datastore(<path to catalog descriptor>)`"
   ]
  },
  {
   "cell_type": "code",
   "execution_count": null,
   "metadata": {},
   "outputs": [],
   "source": [
    "url = \"/work/ik1017/Catalogs/mistral-cmip6.json\"\n",
    "col = intake.open_esm_datastore(url)"
   ]
  },
  {
   "cell_type": "markdown",
   "metadata": {},
   "source": [
    "## <font color='green'>Excercise: Get to know the Intake Catalog</font>\n",
    "- How many activities does the Catalog contain?\n",
    "- How many unique variables has only the CMIP activity?"
   ]
  },
  {
   "cell_type": "code",
   "execution_count": null,
   "metadata": {},
   "outputs": [],
   "source": [
    "col.unique(['activity_id'])"
   ]
  },
  {
   "cell_type": "code",
   "execution_count": null,
   "metadata": {},
   "outputs": [],
   "source": [
    "col.df[col.df[\"activity_id\"] == \"CMIP\"]['variable_id'].unique().size"
   ]
  },
  {
   "cell_type": "markdown",
   "metadata": {},
   "source": [
    "## <font color='green'>Excercise: Browse the Catalog</font>\n",
    "- Modify the search dictionay"
   ]
  },
  {
   "cell_type": "code",
   "execution_count": null,
   "metadata": {},
   "outputs": [],
   "source": [
    "# This is how we tell intake what data we want\n",
    "\n",
    "query = dict(\n",
    "    source_id      = \"MPI-ESM1-2-LR\",   # choose a climate model\n",
    "    variable_id    = \"tasmin\",          # minimum temperature\n",
    "    table_id       = \"day\",             # daily frequency\n",
    "    experiment_id  = \"ssp585\",          # choose an experiment\n",
    "    member_id      = \"r10i1p1f1\",       # choose a member (\"r\" realization, \"i\" initialization, \"p\" physics, \"f\" forcing)\n",
    ")\n",
    "\n",
    "# Intake looks for the query we just defined in the catalog of the CMIP6 data pool at DKRZ\n",
    "cat = col.search(**query)\n",
    "\n",
    "# Show query results\n",
    "cat.df"
   ]
  },
  {
   "cell_type": "markdown",
   "metadata": {},
   "source": [
    "## <font color='green'>Excercise: Save Selection</font>\n",
    "In order to use the exact same data collection at a later point, you can save your collection. For this, you need to specify a location and a file name. The collection will be saved as human readable `.csv` file.\n",
    "- save you collection as `.csv` file"
   ]
  },
  {
   "cell_type": "code",
   "execution_count": null,
   "metadata": {},
   "outputs": [],
   "source": [
    "cat.df.to_csv('my_tasmin_collection.csv', index=False)"
   ]
  },
  {
   "cell_type": "markdown",
   "metadata": {},
   "source": [
    "## <font color='green'>Excercise: Open Saved Selection</font>\n",
    "- Double check the file by reading it and displaying the content\n",
    "\n",
    "You can access your saved collection by reading the `.csv` file with `pd.read_csv(<file location>/<file name>)`."
   ]
  },
  {
   "cell_type": "code",
   "execution_count": null,
   "metadata": {},
   "outputs": [],
   "source": [
    "my_col = pd.read_csv('my_tasmin_collection.csv')\n",
    "my_col"
   ]
  },
  {
   "cell_type": "markdown",
   "metadata": {},
   "source": [
    "## <font color='green'>Bonus Excercise: Where is the Intake Catalog File located</font>\n",
    "`mistral-cmip6.json` is the catalog descriptor. Where is the actual catalog located?"
   ]
  },
  {
   "cell_type": "code",
   "execution_count": null,
   "metadata": {},
   "outputs": [],
   "source": [
    "!cat $url"
   ]
  },
  {
   "cell_type": "markdown",
   "metadata": {},
   "source": [
    "### <font color='green'>catalog_file\": \"/mnt/lustre02/work/ik1017/Catalogs/mistral-cmip6.csv.gz</font>"
   ]
  }
 ],
 "metadata": {
  "kernelspec": {
   "display_name": "Python 3",
   "language": "python",
   "name": "python3"
  },
  "language_info": {
   "codemirror_mode": {
    "name": "ipython",
    "version": 3
   },
   "file_extension": ".py",
   "mimetype": "text/x-python",
   "name": "python",
   "nbconvert_exporter": "python",
   "pygments_lexer": "ipython3",
   "version": "3.7.7"
  }
 },
 "nbformat": 4,
 "nbformat_minor": 4
}
