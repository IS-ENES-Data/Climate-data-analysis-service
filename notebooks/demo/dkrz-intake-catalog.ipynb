{
 "cells": [
  {
   "cell_type": "markdown",
   "metadata": {
    "slideshow": {
     "slide_type": "slide"
    }
   },
   "source": [
    "## Intake-esm\n",
    "\n",
    "In order to make our data pool supply more [FAIR](https://www.dkrz.de/up/services/data-management/LTA/fairness), we support the **python package** `intake-esm` which allows you to **use collections of climate data easily and fast**. We fully agree with the self-description of the developer's:\n",
    "\n",
    "> \"intake-esm is a data cataloging utility built on top of `intake`, `pandas`, and `xarray`, and it’s pretty awesome!\"\n",
    "\n",
    "We provide a tutorial here:\n",
    "https://gitlab.dkrz.de/mipdata/intake-esm/-/blob/master/intake-esm_tutorial.ipynb\n",
    "\n",
    "The offical `intake-esm` page:\n",
    "https://intake-esm.readthedocs.io/"
   ]
  },
  {
   "cell_type": "markdown",
   "metadata": {
    "slideshow": {
     "slide_type": "subslide"
    }
   },
   "source": [
    "**Features**\n",
    "\n",
    "- display catalogs as clearly structured tables inside jupyter notebooks for easy investigation"
   ]
  },
  {
   "cell_type": "code",
   "execution_count": 1,
   "metadata": {
    "slideshow": {
     "slide_type": "subslide"
    }
   },
   "outputs": [
    {
     "data": {
      "text/html": [
       "<div>\n",
       "<style scoped>\n",
       "    .dataframe tbody tr th:only-of-type {\n",
       "        vertical-align: middle;\n",
       "    }\n",
       "\n",
       "    .dataframe tbody tr th {\n",
       "        vertical-align: top;\n",
       "    }\n",
       "\n",
       "    .dataframe thead th {\n",
       "        text-align: right;\n",
       "    }\n",
       "</style>\n",
       "<table border=\"1\" class=\"dataframe\">\n",
       "  <thead>\n",
       "    <tr style=\"text-align: right;\">\n",
       "      <th></th>\n",
       "      <th>activity_id</th>\n",
       "      <th>institution_id</th>\n",
       "      <th>source_id</th>\n",
       "      <th>experiment_id</th>\n",
       "      <th>member_id</th>\n",
       "      <th>table_id</th>\n",
       "      <th>variable_id</th>\n",
       "      <th>grid_label</th>\n",
       "      <th>dcpp_init_year</th>\n",
       "      <th>version</th>\n",
       "      <th>time_range</th>\n",
       "      <th>path</th>\n",
       "      <th>opendap_url</th>\n",
       "    </tr>\n",
       "  </thead>\n",
       "  <tbody>\n",
       "    <tr>\n",
       "      <th>0</th>\n",
       "      <td>AerChemMIP</td>\n",
       "      <td>BCC</td>\n",
       "      <td>BCC-ESM1</td>\n",
       "      <td>hist-piAer</td>\n",
       "      <td>r1i1p1f1</td>\n",
       "      <td>AERmon</td>\n",
       "      <td>c2h6</td>\n",
       "      <td>gn</td>\n",
       "      <td>NaN</td>\n",
       "      <td>v20200511</td>\n",
       "      <td>185001-201412</td>\n",
       "      <td>/mnt/lustre02/work/ik1017/CMIP6/data/CMIP6/Aer...</td>\n",
       "      <td>http://esgf3.dkrz.de/thredds/dodsC/cmip6/AerCh...</td>\n",
       "    </tr>\n",
       "    <tr>\n",
       "      <th>1</th>\n",
       "      <td>AerChemMIP</td>\n",
       "      <td>BCC</td>\n",
       "      <td>BCC-ESM1</td>\n",
       "      <td>hist-piAer</td>\n",
       "      <td>r1i1p1f1</td>\n",
       "      <td>AERmon</td>\n",
       "      <td>c3h6</td>\n",
       "      <td>gn</td>\n",
       "      <td>NaN</td>\n",
       "      <td>v20200511</td>\n",
       "      <td>185001-201412</td>\n",
       "      <td>/mnt/lustre02/work/ik1017/CMIP6/data/CMIP6/Aer...</td>\n",
       "      <td>http://esgf3.dkrz.de/thredds/dodsC/cmip6/AerCh...</td>\n",
       "    </tr>\n",
       "    <tr>\n",
       "      <th>2</th>\n",
       "      <td>AerChemMIP</td>\n",
       "      <td>BCC</td>\n",
       "      <td>BCC-ESM1</td>\n",
       "      <td>hist-piAer</td>\n",
       "      <td>r1i1p1f1</td>\n",
       "      <td>AERmon</td>\n",
       "      <td>c3h8</td>\n",
       "      <td>gn</td>\n",
       "      <td>NaN</td>\n",
       "      <td>v20200511</td>\n",
       "      <td>185001-201412</td>\n",
       "      <td>/mnt/lustre02/work/ik1017/CMIP6/data/CMIP6/Aer...</td>\n",
       "      <td>http://esgf3.dkrz.de/thredds/dodsC/cmip6/AerCh...</td>\n",
       "    </tr>\n",
       "    <tr>\n",
       "      <th>3</th>\n",
       "      <td>AerChemMIP</td>\n",
       "      <td>BCC</td>\n",
       "      <td>BCC-ESM1</td>\n",
       "      <td>hist-piAer</td>\n",
       "      <td>r1i1p1f1</td>\n",
       "      <td>AERmon</td>\n",
       "      <td>cdnc</td>\n",
       "      <td>gn</td>\n",
       "      <td>NaN</td>\n",
       "      <td>v20200522</td>\n",
       "      <td>185001-201412</td>\n",
       "      <td>/mnt/lustre02/work/ik1017/CMIP6/data/CMIP6/Aer...</td>\n",
       "      <td>http://esgf3.dkrz.de/thredds/dodsC/cmip6/AerCh...</td>\n",
       "    </tr>\n",
       "    <tr>\n",
       "      <th>4</th>\n",
       "      <td>AerChemMIP</td>\n",
       "      <td>BCC</td>\n",
       "      <td>BCC-ESM1</td>\n",
       "      <td>hist-piAer</td>\n",
       "      <td>r1i1p1f1</td>\n",
       "      <td>AERmon</td>\n",
       "      <td>ch3coch3</td>\n",
       "      <td>gn</td>\n",
       "      <td>NaN</td>\n",
       "      <td>v20200511</td>\n",
       "      <td>185001-201412</td>\n",
       "      <td>/mnt/lustre02/work/ik1017/CMIP6/data/CMIP6/Aer...</td>\n",
       "      <td>http://esgf3.dkrz.de/thredds/dodsC/cmip6/AerCh...</td>\n",
       "    </tr>\n",
       "  </tbody>\n",
       "</table>\n",
       "</div>"
      ],
      "text/plain": [
       "  activity_id institution_id source_id experiment_id member_id table_id  \\\n",
       "0  AerChemMIP            BCC  BCC-ESM1    hist-piAer  r1i1p1f1   AERmon   \n",
       "1  AerChemMIP            BCC  BCC-ESM1    hist-piAer  r1i1p1f1   AERmon   \n",
       "2  AerChemMIP            BCC  BCC-ESM1    hist-piAer  r1i1p1f1   AERmon   \n",
       "3  AerChemMIP            BCC  BCC-ESM1    hist-piAer  r1i1p1f1   AERmon   \n",
       "4  AerChemMIP            BCC  BCC-ESM1    hist-piAer  r1i1p1f1   AERmon   \n",
       "\n",
       "  variable_id grid_label  dcpp_init_year    version     time_range  \\\n",
       "0        c2h6         gn             NaN  v20200511  185001-201412   \n",
       "1        c3h6         gn             NaN  v20200511  185001-201412   \n",
       "2        c3h8         gn             NaN  v20200511  185001-201412   \n",
       "3        cdnc         gn             NaN  v20200522  185001-201412   \n",
       "4    ch3coch3         gn             NaN  v20200511  185001-201412   \n",
       "\n",
       "                                                path  \\\n",
       "0  /mnt/lustre02/work/ik1017/CMIP6/data/CMIP6/Aer...   \n",
       "1  /mnt/lustre02/work/ik1017/CMIP6/data/CMIP6/Aer...   \n",
       "2  /mnt/lustre02/work/ik1017/CMIP6/data/CMIP6/Aer...   \n",
       "3  /mnt/lustre02/work/ik1017/CMIP6/data/CMIP6/Aer...   \n",
       "4  /mnt/lustre02/work/ik1017/CMIP6/data/CMIP6/Aer...   \n",
       "\n",
       "                                         opendap_url  \n",
       "0  http://esgf3.dkrz.de/thredds/dodsC/cmip6/AerCh...  \n",
       "1  http://esgf3.dkrz.de/thredds/dodsC/cmip6/AerCh...  \n",
       "2  http://esgf3.dkrz.de/thredds/dodsC/cmip6/AerCh...  \n",
       "3  http://esgf3.dkrz.de/thredds/dodsC/cmip6/AerCh...  \n",
       "4  http://esgf3.dkrz.de/thredds/dodsC/cmip6/AerCh...  "
      ]
     },
     "execution_count": 1,
     "metadata": {},
     "output_type": "execute_result"
    }
   ],
   "source": [
    "import intake\n",
    "col = intake.open_esm_datastore(\"/pool/data/Catalogs/mistral-cmip6.json\")\n",
    "col.df.head()"
   ]
  },
  {
   "cell_type": "markdown",
   "metadata": {
    "slideshow": {
     "slide_type": "subslide"
    }
   },
   "source": [
    "**Features**\n",
    "\n",
    "- browse through the catalog and select your data without being on the pool file system\n",
    "\n",
    "⇨ A pythonic reproducable alternative compared to complex `find` commands or GUI searches. No need for Filesystems and filenames."
   ]
  },
  {
   "cell_type": "code",
   "execution_count": 2,
   "metadata": {
    "scrolled": true,
    "slideshow": {
     "slide_type": "subslide"
    }
   },
   "outputs": [
    {
     "data": {
      "text/html": [
       "<p><strong>mistral-cmip6 catalog with 1 dataset(s) from 33 asset(s)</strong>:</p> <div>\n",
       "<style scoped>\n",
       "    .dataframe tbody tr th:only-of-type {\n",
       "        vertical-align: middle;\n",
       "    }\n",
       "\n",
       "    .dataframe tbody tr th {\n",
       "        vertical-align: top;\n",
       "    }\n",
       "\n",
       "    .dataframe thead th {\n",
       "        text-align: right;\n",
       "    }\n",
       "</style>\n",
       "<table border=\"1\" class=\"dataframe\">\n",
       "  <thead>\n",
       "    <tr style=\"text-align: right;\">\n",
       "      <th></th>\n",
       "      <th>unique</th>\n",
       "    </tr>\n",
       "  </thead>\n",
       "  <tbody>\n",
       "    <tr>\n",
       "      <th>activity_id</th>\n",
       "      <td>1</td>\n",
       "    </tr>\n",
       "    <tr>\n",
       "      <th>institution_id</th>\n",
       "      <td>1</td>\n",
       "    </tr>\n",
       "    <tr>\n",
       "      <th>source_id</th>\n",
       "      <td>1</td>\n",
       "    </tr>\n",
       "    <tr>\n",
       "      <th>experiment_id</th>\n",
       "      <td>1</td>\n",
       "    </tr>\n",
       "    <tr>\n",
       "      <th>member_id</th>\n",
       "      <td>1</td>\n",
       "    </tr>\n",
       "    <tr>\n",
       "      <th>table_id</th>\n",
       "      <td>1</td>\n",
       "    </tr>\n",
       "    <tr>\n",
       "      <th>variable_id</th>\n",
       "      <td>1</td>\n",
       "    </tr>\n",
       "    <tr>\n",
       "      <th>grid_label</th>\n",
       "      <td>1</td>\n",
       "    </tr>\n",
       "    <tr>\n",
       "      <th>dcpp_init_year</th>\n",
       "      <td>0</td>\n",
       "    </tr>\n",
       "    <tr>\n",
       "      <th>version</th>\n",
       "      <td>1</td>\n",
       "    </tr>\n",
       "    <tr>\n",
       "      <th>time_range</th>\n",
       "      <td>33</td>\n",
       "    </tr>\n",
       "    <tr>\n",
       "      <th>path</th>\n",
       "      <td>33</td>\n",
       "    </tr>\n",
       "    <tr>\n",
       "      <th>opendap_url</th>\n",
       "      <td>33</td>\n",
       "    </tr>\n",
       "  </tbody>\n",
       "</table>\n",
       "</div>"
      ],
      "text/plain": [
       "<IPython.core.display.HTML object>"
      ]
     },
     "metadata": {},
     "output_type": "display_data"
    }
   ],
   "source": [
    "tas = col.search(experiment_id=\"historical\", source_id=\"MPI-ESM1-2-HR\", variable_id=\"tas\", table_id=\"Amon\", member_id=\"r1i1p1f1\")\n",
    "tas"
   ]
  },
  {
   "cell_type": "markdown",
   "metadata": {
    "slideshow": {
     "slide_type": "subslide"
    }
   },
   "source": [
    "**Features**\n",
    "\n",
    "- open climate data in an analysis ready dictionary of `xarray` datasets\n",
    "\n",
    "Forget about annoying temporary merging and reformatting steps!"
   ]
  },
  {
   "cell_type": "code",
   "execution_count": 3,
   "metadata": {
    "slideshow": {
     "slide_type": "subslide"
    }
   },
   "outputs": [
    {
     "name": "stdout",
     "output_type": "stream",
     "text": [
      "\n",
      "--> The keys in the returned dictionary of datasets are constructed as follows:\n",
      "\t'activity_id.institution_id.source_id.experiment_id.table_id.grid_label'\n"
     ]
    },
    {
     "data": {
      "text/html": [
       "\n",
       "    <div>\n",
       "        <style>\n",
       "            /* Turns off some styling */\n",
       "            progress {\n",
       "                /* gets rid of default border in Firefox and Opera. */\n",
       "                border: none;\n",
       "                /* Needs to be in here for Safari polyfill so background images work as expected. */\n",
       "                background-size: auto;\n",
       "            }\n",
       "            .progress-bar-interrupted, .progress-bar-interrupted::-webkit-progress-bar {\n",
       "                background: #F44336;\n",
       "            }\n",
       "        </style>\n",
       "      <progress value='1' class='' max='1' style='width:300px; height:20px; vertical-align: middle;'></progress>\n",
       "      100.00% [1/1 00:00<00:00]\n",
       "    </div>\n",
       "    "
      ],
      "text/plain": [
       "<IPython.core.display.HTML object>"
      ]
     },
     "metadata": {},
     "output_type": "display_data"
    },
    {
     "data": {
      "text/plain": [
       "{'CMIP.MPI-M.MPI-ESM1-2-HR.historical.Amon.gn': <xarray.Dataset>\n",
       " Dimensions:    (bnds: 2, lat: 192, lon: 384, member_id: 1, time: 1980)\n",
       " Coordinates:\n",
       "   * time       (time) datetime64[ns] 1850-01-16T12:00:00 ... 2014-12-16T12:00:00\n",
       "   * lat        (lat) float64 -89.28 -88.36 -87.42 -86.49 ... 87.42 88.36 89.28\n",
       "   * lon        (lon) float64 0.0 0.9375 1.875 2.812 ... 356.2 357.2 358.1 359.1\n",
       "     height     float64 ...\n",
       "   * member_id  (member_id) <U8 'r1i1p1f1'\n",
       " Dimensions without coordinates: bnds\n",
       " Data variables:\n",
       "     time_bnds  (time, bnds) datetime64[ns] dask.array<chunksize=(60, 2), meta=np.ndarray>\n",
       "     lat_bnds   (time, lat, bnds) float64 dask.array<chunksize=(60, 192, 2), meta=np.ndarray>\n",
       "     lon_bnds   (time, lon, bnds) float64 dask.array<chunksize=(60, 384, 2), meta=np.ndarray>\n",
       "     tas        (member_id, time, lat, lon) float32 dask.array<chunksize=(1, 60, 192, 384), meta=np.ndarray>\n",
       " Attributes:\n",
       "     source:                  MPI-ESM1.2-HR (2017): \\naerosol: none, prescribe...\n",
       "     activity_id:             CMIP\n",
       "     license:                 CMIP6 model data produced by MPI-M is licensed u...\n",
       "     initialization_index:    1\n",
       "     sub_experiment_id:       none\n",
       "     further_info_url:        https://furtherinfo.es-doc.org/CMIP6.MPI-M.MPI-E...\n",
       "     history:                 2019-08-25T06:42:07Z ; CMOR rewrote data to be c...\n",
       "     parent_mip_era:          CMIP6\n",
       "     data_specs_version:      01.00.30\n",
       "     parent_activity_id:      CMIP\n",
       "     experiment:              all-forcing simulation of the recent past\n",
       "     branch_time_in_parent:   0.0\n",
       "     physics_index:           1\n",
       "     external_variables:      areacella\n",
       "     tracking_id:             hdl:21.14100/68498095-cf29-4fb6-981a-ac9e3541d2c...\n",
       "     institution:             Max Planck Institute for Meteorology, Hamburg 20...\n",
       "     realization_index:       1\n",
       "     project_id:              CMIP6\n",
       "     intake_esm_varname:      tas\n",
       "     grid_label:              gn\n",
       "     parent_variant_label:    r1i1p1f1\n",
       "     realm:                   atmos\n",
       "     forcing_index:           1\n",
       "     mip_era:                 CMIP6\n",
       "     parent_source_id:        MPI-ESM1-2-HR\n",
       "     title:                   MPI-ESM1-2-HR output prepared for CMIP6\n",
       "     institution_id:          MPI-M\n",
       "     table_info:              Creation Date:(09 May 2019) MD5:e6ef8ececc8f3386...\n",
       "     cmor_version:            3.5.0\n",
       "     frequency:               mon\n",
       "     source_type:             AOGCM\n",
       "     product:                 model-output\n",
       "     parent_time_units:       days since 1850-1-1 00:00:00\n",
       "     table_id:                Amon\n",
       "     nominal_resolution:      100 km\n",
       "     variable_id:             tas\n",
       "     parent_experiment_id:    piControl\n",
       "     variant_label:           r1i1p1f1\n",
       "     source_id:               MPI-ESM1-2-HR\n",
       "     grid:                    gn\n",
       "     branch_time_in_child:    0.0\n",
       "     sub_experiment:          none\n",
       "     branch_method:           standard\n",
       "     Conventions:             CF-1.7 CMIP-6.2\n",
       "     experiment_id:           historical\n",
       "     creation_date:           2019-08-25T11:10:34Z\n",
       "     contact:                 cmip6-mpi-esm@dkrz.de\n",
       "     references:              MPI-ESM: Mauritsen, T. et al. (2019), Developmen...\n",
       "     intake_esm_dataset_key:  CMIP.MPI-M.MPI-ESM1-2-HR.historical.Amon.gn}"
      ]
     },
     "execution_count": 3,
     "metadata": {},
     "output_type": "execute_result"
    }
   ],
   "source": [
    "tas.to_dataset_dict()"
   ]
  },
  {
   "cell_type": "markdown",
   "metadata": {
    "slideshow": {
     "slide_type": "subslide"
    }
   },
   "source": [
    "**Features**\n",
    "\n",
    "- display catalogs as clearly structured tables inside jupyter notebooks for easy investigation\n",
    "- browse through the catalog and select your data without being on the pool file system\n",
    "- open climate data in an analysis ready dictionary of `xarray` datasets\n",
    "\n",
    "⇨ `intake-esm` reduces the data access and data preparation tasks on analysists side"
   ]
  },
  {
   "cell_type": "markdown",
   "metadata": {
    "slideshow": {
     "slide_type": "slide"
    }
   },
   "source": [
    "### Catalog content\n",
    "\n",
    "The catalog is a combination of\n",
    "\n",
    "- a list of files (at dkrz compressed as `.csv.gz`) where each line contains a filepath as an index and column values to describe that file\n",
    "    - The columns of the catalog should be selected such that  a dataset in the project's data repository can be *uniquely identified*. I.e., all elements of the project's Data Reference Syntax should be covered (See the project's documentation for more information about the DRS) .\n",
    "- a `.json` formatted descriptor file for the list which contains additional settings which tell `intake` how to interprete the data. \n",
    "\n",
    "According to our policy, both files have the same name and are available in the same directory."
   ]
  },
  {
   "cell_type": "code",
   "execution_count": 4,
   "metadata": {
    "slideshow": {
     "slide_type": "subslide"
    }
   },
   "outputs": [
    {
     "name": "stdout",
     "output_type": "stream",
     "text": [
      "What is this catalog about? \n",
      "This is an ESM collection for CMIP6 data accessible on the DKRZ's MISTRAL disk storage system in /work/ik1017/CMIP6/data/CMIP6\n",
      "The path to the list of files: /mnt/lustre02/work/ik1017/Catalogs/mistral-cmip6.csv.gz\n"
     ]
    }
   ],
   "source": [
    "print(\"What is this catalog about? \\n\" + col.esmcol_data[\"description\"])\n",
    "#\n",
    "print(\"The path to the list of files: \"+ col.esmcol_data[\"catalog_file\"])"
   ]
  },
  {
   "cell_type": "markdown",
   "metadata": {
    "slideshow": {
     "slide_type": "subslide"
    }
   },
   "source": [
    "**Creation of the `.csv.gz` list :**\n",
    "\n",
    "1. A file list is created based on a `find` shell command on the project directory in the data pool.\n",
    "2. For the column values, filenames and Pathes are parsed according to the project's `path_template` and `filename_template`. These templates need to be constructed with attribute values requested and required by the project.\n",
    "    - Filenames that cannot be parsed are sorted out\n",
    "3. Depending on the project, additional columns can be created by adding project's specifications.\n",
    "    - E.g., for CMIP6, we added a `OpenDAP` column which allows users to access data from everywhere via `http`"
   ]
  },
  {
   "cell_type": "markdown",
   "metadata": {
    "slideshow": {
     "slide_type": "subslide"
    }
   },
   "source": [
    "**Configuration of the `.json` descriptor:**\n",
    "\n",
    "Makes the catalog **self-descriptive** by defining all necessary information to understand the `.csv.gz` file\n",
    "\n",
    "- Specifications for the *headers* of the columns - in case of CMIP6, each column is linked to a *Controlled Vocabulary*."
   ]
  },
  {
   "cell_type": "code",
   "execution_count": 5,
   "metadata": {
    "slideshow": {
     "slide_type": "subslide"
    }
   },
   "outputs": [
    {
     "data": {
      "text/plain": [
       "{'column_name': 'activity_id',\n",
       " 'vocabulary': 'https://raw.githubusercontent.com/WCRP-CMIP/CMIP6_CVs/master/CMIP6_activity_id.json'}"
      ]
     },
     "execution_count": 5,
     "metadata": {},
     "output_type": "execute_result"
    }
   ],
   "source": [
    "col.esmcol_data[\"attributes\"][0]"
   ]
  },
  {
   "cell_type": "markdown",
   "metadata": {
    "slideshow": {
     "slide_type": "subslide"
    }
   },
   "source": [
    "Defines how to `open` the data as **analysis ready** as possible with the underlaying `xarray` tool:\n",
    "\n",
    "- which column of the `.csv.gz` file contains the path or link to the files\n",
    "- what is the data format\n",
    "- how to **aggregate** files to a dataset\n",
    "    - set a column to be used as a new dimension for the xarray by `merge`\n",
    "    - when opened a file, what is `concat` dimension?\n",
    "    - additional options for the `open` function"
   ]
  },
  {
   "cell_type": "markdown",
   "metadata": {
    "slideshow": {
     "slide_type": "slide"
    }
   },
   "source": [
    "### Jobs we do for you\n",
    "\n",
    "- We **make all catalogs available** under `/pool/data/Catalogs/`\n",
    "- We **create and update** the content of project's catalogs regularly by running scripts which are automatically executed and called _cronjobs_. We set the creation frequency so that the data of the project is updated sufficently quickly.\n",
    "    - The updated catalog __replaces__ the outdated one. \n",
    "    - The updated catalog is __uploaded__ to the DKRZ swift cloud \n",
    "    - We plan to provide a catalog that tracks data which is __removed__ by the update."
   ]
  },
  {
   "cell_type": "code",
   "execution_count": 9,
   "metadata": {
    "slideshow": {
     "slide_type": "skip"
    }
   },
   "outputs": [
    {
     "data": {
      "text/html": [
       "<style  type=\"text/css\" >\n",
       "#T_f709f982_80e6_11eb_9ace_246e9694546crow0_col0,#T_f709f982_80e6_11eb_9ace_246e9694546crow0_col1,#T_f709f982_80e6_11eb_9ace_246e9694546crow0_col2,#T_f709f982_80e6_11eb_9ace_246e9694546crow0_col3,#T_f709f982_80e6_11eb_9ace_246e9694546crow0_col4,#T_f709f982_80e6_11eb_9ace_246e9694546crow0_col5,#T_f709f982_80e6_11eb_9ace_246e9694546crow1_col0,#T_f709f982_80e6_11eb_9ace_246e9694546crow1_col1,#T_f709f982_80e6_11eb_9ace_246e9694546crow1_col2,#T_f709f982_80e6_11eb_9ace_246e9694546crow1_col3,#T_f709f982_80e6_11eb_9ace_246e9694546crow1_col4,#T_f709f982_80e6_11eb_9ace_246e9694546crow1_col5,#T_f709f982_80e6_11eb_9ace_246e9694546crow2_col0,#T_f709f982_80e6_11eb_9ace_246e9694546crow2_col1,#T_f709f982_80e6_11eb_9ace_246e9694546crow2_col2,#T_f709f982_80e6_11eb_9ace_246e9694546crow2_col3,#T_f709f982_80e6_11eb_9ace_246e9694546crow2_col4,#T_f709f982_80e6_11eb_9ace_246e9694546crow2_col5,#T_f709f982_80e6_11eb_9ace_246e9694546crow3_col0,#T_f709f982_80e6_11eb_9ace_246e9694546crow3_col1,#T_f709f982_80e6_11eb_9ace_246e9694546crow3_col2,#T_f709f982_80e6_11eb_9ace_246e9694546crow3_col3,#T_f709f982_80e6_11eb_9ace_246e9694546crow3_col4,#T_f709f982_80e6_11eb_9ace_246e9694546crow3_col5,#T_f709f982_80e6_11eb_9ace_246e9694546crow4_col0,#T_f709f982_80e6_11eb_9ace_246e9694546crow4_col1,#T_f709f982_80e6_11eb_9ace_246e9694546crow4_col2,#T_f709f982_80e6_11eb_9ace_246e9694546crow4_col3,#T_f709f982_80e6_11eb_9ace_246e9694546crow4_col4,#T_f709f982_80e6_11eb_9ace_246e9694546crow4_col5{\n",
       "            font-size:  14pt;\n",
       "        }</style><table id=\"T_f709f982_80e6_11eb_9ace_246e9694546c\" ><thead>    <tr>        <th class=\"blank level0\" ></th>        <th class=\"col_heading level0 col0\" >Update Frequency</th>        <th class=\"col_heading level0 col1\" >On cloud</th>        <th class=\"col_heading level0 col2\" >Path to catalog</th>        <th class=\"col_heading level0 col3\" >OpenDAP</th>        <th class=\"col_heading level0 col4\" >Retraction Tracking</th>        <th class=\"col_heading level0 col5\" >Minimum required Memory</th>    </tr></thead><tbody>\n",
       "                <tr>\n",
       "                        <th id=\"T_f709f982_80e6_11eb_9ace_246e9694546clevel0_row0\" class=\"row_heading level0 row0\" >CMIP6</th>\n",
       "                        <td id=\"T_f709f982_80e6_11eb_9ace_246e9694546crow0_col0\" class=\"data row0 col0\" >Daily</td>\n",
       "                        <td id=\"T_f709f982_80e6_11eb_9ace_246e9694546crow0_col1\" class=\"data row0 col1\" >Yes</td>\n",
       "                        <td id=\"T_f709f982_80e6_11eb_9ace_246e9694546crow0_col2\" class=\"data row0 col2\" >/pool/data/Catalogs/mistral-cmip6.json</td>\n",
       "                        <td id=\"T_f709f982_80e6_11eb_9ace_246e9694546crow0_col3\" class=\"data row0 col3\" >Yes</td>\n",
       "                        <td id=\"T_f709f982_80e6_11eb_9ace_246e9694546crow0_col4\" class=\"data row0 col4\" ></td>\n",
       "                        <td id=\"T_f709f982_80e6_11eb_9ace_246e9694546crow0_col5\" class=\"data row0 col5\" >10GB</td>\n",
       "            </tr>\n",
       "            <tr>\n",
       "                        <th id=\"T_f709f982_80e6_11eb_9ace_246e9694546clevel0_row1\" class=\"row_heading level0 row1\" >CMIP5</th>\n",
       "                        <td id=\"T_f709f982_80e6_11eb_9ace_246e9694546crow1_col0\" class=\"data row1 col0\" >Monthly</td>\n",
       "                        <td id=\"T_f709f982_80e6_11eb_9ace_246e9694546crow1_col1\" class=\"data row1 col1\" >Yes</td>\n",
       "                        <td id=\"T_f709f982_80e6_11eb_9ace_246e9694546crow1_col2\" class=\"data row1 col2\" >/pool/data/Catalogs/mistral-cmip5.json</td>\n",
       "                        <td id=\"T_f709f982_80e6_11eb_9ace_246e9694546crow1_col3\" class=\"data row1 col3\" ></td>\n",
       "                        <td id=\"T_f709f982_80e6_11eb_9ace_246e9694546crow1_col4\" class=\"data row1 col4\" ></td>\n",
       "                        <td id=\"T_f709f982_80e6_11eb_9ace_246e9694546crow1_col5\" class=\"data row1 col5\" >5GB</td>\n",
       "            </tr>\n",
       "            <tr>\n",
       "                        <th id=\"T_f709f982_80e6_11eb_9ace_246e9694546clevel0_row2\" class=\"row_heading level0 row2\" >CORDEX</th>\n",
       "                        <td id=\"T_f709f982_80e6_11eb_9ace_246e9694546crow2_col0\" class=\"data row2 col0\" >Monthly</td>\n",
       "                        <td id=\"T_f709f982_80e6_11eb_9ace_246e9694546crow2_col1\" class=\"data row2 col1\" >Yes</td>\n",
       "                        <td id=\"T_f709f982_80e6_11eb_9ace_246e9694546crow2_col2\" class=\"data row2 col2\" >/pool/data/Catalogs/mistral-cordex.json</td>\n",
       "                        <td id=\"T_f709f982_80e6_11eb_9ace_246e9694546crow2_col3\" class=\"data row2 col3\" ></td>\n",
       "                        <td id=\"T_f709f982_80e6_11eb_9ace_246e9694546crow2_col4\" class=\"data row2 col4\" ></td>\n",
       "                        <td id=\"T_f709f982_80e6_11eb_9ace_246e9694546crow2_col5\" class=\"data row2 col5\" >5GB</td>\n",
       "            </tr>\n",
       "            <tr>\n",
       "                        <th id=\"T_f709f982_80e6_11eb_9ace_246e9694546clevel0_row3\" class=\"row_heading level0 row3\" >ERA5</th>\n",
       "                        <td id=\"T_f709f982_80e6_11eb_9ace_246e9694546crow3_col0\" class=\"data row3 col0\" >On demand</td>\n",
       "                        <td id=\"T_f709f982_80e6_11eb_9ace_246e9694546crow3_col1\" class=\"data row3 col1\" ></td>\n",
       "                        <td id=\"T_f709f982_80e6_11eb_9ace_246e9694546crow3_col2\" class=\"data row3 col2\" >/pool/data/Catalogs/mistral-era5.json</td>\n",
       "                        <td id=\"T_f709f982_80e6_11eb_9ace_246e9694546crow3_col3\" class=\"data row3 col3\" >--</td>\n",
       "                        <td id=\"T_f709f982_80e6_11eb_9ace_246e9694546crow3_col4\" class=\"data row3 col4\" >--</td>\n",
       "                        <td id=\"T_f709f982_80e6_11eb_9ace_246e9694546crow3_col5\" class=\"data row3 col5\" >5GB</td>\n",
       "            </tr>\n",
       "            <tr>\n",
       "                        <th id=\"T_f709f982_80e6_11eb_9ace_246e9694546clevel0_row4\" class=\"row_heading level0 row4\" >MPI-GE</th>\n",
       "                        <td id=\"T_f709f982_80e6_11eb_9ace_246e9694546crow4_col0\" class=\"data row4 col0\" >On demand</td>\n",
       "                        <td id=\"T_f709f982_80e6_11eb_9ace_246e9694546crow4_col1\" class=\"data row4 col1\" >Yes</td>\n",
       "                        <td id=\"T_f709f982_80e6_11eb_9ace_246e9694546crow4_col2\" class=\"data row4 col2\" >/pool/data/Catalogs/mistral-mpige.json</td>\n",
       "                        <td id=\"T_f709f982_80e6_11eb_9ace_246e9694546crow4_col3\" class=\"data row4 col3\" ></td>\n",
       "                        <td id=\"T_f709f982_80e6_11eb_9ace_246e9694546crow4_col4\" class=\"data row4 col4\" >--</td>\n",
       "                        <td id=\"T_f709f982_80e6_11eb_9ace_246e9694546crow4_col5\" class=\"data row4 col5\" >No minimum</td>\n",
       "            </tr>\n",
       "    </tbody></table>"
      ],
      "text/plain": [
       "<pandas.io.formats.style.Styler at 0x7f1e7641d4e0>"
      ]
     },
     "execution_count": 9,
     "metadata": {},
     "output_type": "execute_result"
    }
   ],
   "source": [
    "import pandas as pd\n",
    "#pd.options.display.max_colwidth = 100\n",
    "services = pd.DataFrame.from_dict({\"CMIP6\" : {\n",
    "    \"Update Frequency\" : \"Daily\",\n",
    "    \"On cloud\" : \"Yes\", #\"https://swift.dkrz.de/v1/dkrz_a44962e3ba914c309a7421573a6949a6/intake-esm/mistral-cmip6.json\",\n",
    "    \"Path to catalog\" : \"/pool/data/Catalogs/mistral-cmip6.json\",\n",
    "    \"OpenDAP\" : \"Yes\",\n",
    "    \"Retraction Tracking\" : \"\",\n",
    "    \"Minimum required Memory\" : \"10GB\",\n",
    "}, \"CMIP5\": {\n",
    "    \"Update Frequency\" : \"Monthly\",\n",
    "    \"On cloud\" : \"Yes\", #\"https://swift.dkrz.de/v1/dkrz_a44962e3ba914c309a7421573a6949a6/intake-esm/mistral-cmip5.json\",\n",
    "    \"Path to catalog\" : \"/pool/data/Catalogs/mistral-cmip5.json\",\n",
    "    \"OpenDAP\" : \"\",\n",
    "    \"Retraction Tracking\" : \"\",\n",
    "    \"Minimum required Memory\" : \"5GB\",\n",
    "}, \"CORDEX\": {\n",
    "    \"Update Frequency\" : \"Monthly\",\n",
    "    \"On cloud\" : \"Yes\", #\"https://swift.dkrz.de/v1/dkrz_a44962e3ba914c309a7421573a6949a6/intake-esm/mistral-cordex.json\",\n",
    "    \"Path to catalog\" : \"/pool/data/Catalogs/mistral-cordex.json\",\n",
    "    \"OpenDAP\" : \"\",\n",
    "    \"Retraction Tracking\" : \"\",\n",
    "    \"Minimum required Memory\" : \"5GB\",\n",
    "}, \"ERA5\": {\n",
    "    \"Update Frequency\" : \"On demand\",\n",
    "    \"On cloud\" : \"\",\n",
    "    \"Path to catalog\" : \"/pool/data/Catalogs/mistral-era5.json\",\n",
    "    \"OpenDAP\" : \"--\",\n",
    "    \"Retraction Tracking\" : \"--\",\n",
    "    \"Minimum required Memory\" : \"5GB\",\n",
    "}, \"MPI-GE\": {\n",
    "    \"Update Frequency\" : \"On demand\",\n",
    "    \"On cloud\" : \"Yes\",# \"https://swift.dkrz.de/v1/dkrz_a44962e3ba914c309a7421573a6949a6/intake-esm/mistral-MPI-GE.json\n",
    "    \"Path to catalog\" : \"/pool/data/Catalogs/mistral-mpige.json\",\n",
    "    \"OpenDAP\" : \"\",\n",
    "    \"Retraction Tracking\" : \"--\",\n",
    "    \"Minimum required Memory\" : \"No minimum\",\n",
    "}}, orient  = \"index\")\n",
    "servicestb=services.style.set_properties(**{\n",
    "    'font-size': '14pt',\n",
    "})\n",
    "\n",
    "servicestb"
   ]
  },
  {
   "cell_type": "markdown",
   "metadata": {
    "slideshow": {
     "slide_type": "slide"
    }
   },
   "source": [
    "### Best practises and recommendations:\n",
    "\n",
    "- `Intake` can make your scripts **reusable**.\n",
    "    - Instead of working with local copy or editions of files, always start from a globally defined catalog which everyone can access. \n",
    "    - Save the subset of the catalog which you work on as a new catalog instead of a subset of files. It can be hard to find out why data is not included anymore in recent catalog versions, especially if retraction tracking is not enabled.\n",
    "- `Intake` helps you to __avoid downloading data__ by reducing necessary temporary steps which can cause temporary output.\n",
    "- Check for new ingests by just __repeating__ your script - it will open the most recent catalog.\n",
    "- Only load datasets with `to_dataset_dict` into xarrray which do not exceed your memory limits"
   ]
  },
  {
   "cell_type": "markdown",
   "metadata": {
    "slideshow": {
     "slide_type": "skip"
    }
   },
   "source": [
    "### Technical requirements for usage\n",
    "\n",
    "- Memory:\n",
    "    - Depending on the project's volume, the catalogs can be big. If you need to work with the total catalog, you require at least **10GB** memory.\n",
    "    - On jupyterhub.dkrz.de, start the notebook server with matching ressources.\n",
    "- Software:\n",
    "    - `Intake` works on the basis of `xarray` and `pandas`.\n",
    "    - On jupyterhub.dkrz.de , use one of the recent kernels:\n",
    "        - bleeding edge"
   ]
  },
  {
   "cell_type": "markdown",
   "metadata": {
    "slideshow": {
     "slide_type": "skip"
    }
   },
   "source": [
    "### Load the catalog"
   ]
  },
  {
   "cell_type": "code",
   "execution_count": 7,
   "metadata": {
    "slideshow": {
     "slide_type": "skip"
    }
   },
   "outputs": [],
   "source": [
    "#import intake\n",
    "#collection = intake.open_esm_datastore(services[\"Path to catalog\"][0])"
   ]
  },
  {
   "cell_type": "markdown",
   "metadata": {
    "slideshow": {
     "slide_type": "skip"
    }
   },
   "source": [
    "### Next step:\n",
    "- https://gitlab.dkrz.de/mipdata/intake-esm/-/blob/master/intake-esm_tutorial.ipynb\n"
   ]
  },
  {
   "cell_type": "code",
   "execution_count": null,
   "metadata": {},
   "outputs": [],
   "source": []
  }
 ],
 "metadata": {
  "kernelspec": {
   "display_name": "Python [conda env:root] *",
   "language": "python",
   "name": "conda-root-py"
  },
  "language_info": {
   "codemirror_mode": {
    "name": "ipython",
    "version": 3
   },
   "file_extension": ".py",
   "mimetype": "text/x-python",
   "name": "python",
   "nbconvert_exporter": "python",
   "pygments_lexer": "ipython3",
   "version": "3.7.3"
  }
 },
 "nbformat": 4,
 "nbformat_minor": 4
}
